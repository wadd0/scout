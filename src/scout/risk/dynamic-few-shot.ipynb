{
 "cells": [
  {
   "cell_type": "code",
   "execution_count": 1,
   "metadata": {},
   "outputs": [
    {
     "data": {
      "text/plain": [
       "True"
      ]
     },
     "execution_count": 1,
     "metadata": {},
     "output_type": "execute_result"
    }
   ],
   "source": [
    "from dotenv import load_dotenv, find_dotenv\n",
    "\n",
    "load_dotenv(find_dotenv())"
   ]
  },
  {
   "cell_type": "markdown",
   "metadata": {},
   "source": [
    "https://python.langchain.com/docs/how_to/few_shot_examples_chat/"
   ]
  },
  {
   "cell_type": "code",
   "execution_count": 14,
   "metadata": {},
   "outputs": [
    {
     "data": {
      "text/plain": [
       "[Document(metadata={'input': 'What did the cow say to the moon?', 'output': 'nothing at all'}, page_content='What did the cow say to the moon? nothing at all'),\n",
       " Document(metadata={'input': 'What did the cow say to the moon?', 'output': 'nothing at all'}, page_content='What did the cow say to the moon? nothing at all'),\n",
       " Document(metadata={'input': '2 🦜 4', 'output': '6'}, page_content='2 🦜 4 6'),\n",
       " Document(metadata={'input': '2 🦜 4', 'output': '6'}, page_content='2 🦜 4 6')]"
      ]
     },
     "execution_count": 14,
     "metadata": {},
     "output_type": "execute_result"
    }
   ],
   "source": [
    "from langchain_chroma import Chroma\n",
    "from langchain_core.example_selectors import SemanticSimilarityExampleSelector\n",
    "from langchain_openai import OpenAIEmbeddings\n",
    "\n",
    "examples = [\n",
    "    {\"input\": \"2 🦜 2\", \"output\": \"4\"},\n",
    "    {\"input\": \"2 🦜 3\", \"output\": \"5\"},\n",
    "    {\"input\": \"2 🦜 4\", \"output\": \"6\"},\n",
    "    {\"input\": \"What did the cow say to the moon?\", \"output\": \"nothing at all\"},\n",
    "    {\n",
    "        \"input\": \"Write me a poem about the moon\",\n",
    "        \"output\": \"One for the moon, and one for me, who are we to talk about the moon?\",\n",
    "    },\n",
    "]\n",
    "\n",
    "to_vectorize = [\" \".join(example.values()) for example in examples]\n",
    "to_vectorize\n",
    "\n",
    "embeddings = OpenAIEmbeddings()\n",
    "vectorstore = Chroma.from_texts(to_vectorize, embeddings, metadatas=examples)"
   ]
  },
  {
   "cell_type": "code",
   "execution_count": null,
   "metadata": {},
   "outputs": [],
   "source": [
    "vectorstore.similarity_search(\"bob\")"
   ]
  },
  {
   "cell_type": "code",
   "execution_count": 13,
   "metadata": {},
   "outputs": [
    {
     "data": {
      "text/plain": [
       "[{'input': '2 🦜 2', 'output': '4'},\n",
       " {'input': '2 🦜 3', 'output': '5'},\n",
       " {'input': 'What did the cow say to the moon?', 'output': 'nothing at all'},\n",
       " {'input': '2 🦜 4', 'output': '6'}]"
      ]
     },
     "execution_count": 13,
     "metadata": {},
     "output_type": "execute_result"
    }
   ],
   "source": [
    "example_selector = SemanticSimilarityExampleSelector(\n",
    "    vectorstore=vectorstore,\n",
    "    # k=2,\n",
    ")\n",
    "\n",
    "# The prompt template will load examples by passing the input do the `select_examples` method\n",
    "example_selector.select_examples({\"input\": \"who is the president of the usa\"})"
   ]
  },
  {
   "cell_type": "code",
   "execution_count": 34,
   "metadata": {},
   "outputs": [
    {
     "data": {
      "text/plain": [
       "[dict_values([{'location': 'The scout hut is large brick building with a hard wooden floor.', 'activity': 'Indoor active games.', 'n': 9}, {'location': 'Scout Hut', 'activity': 'Indoor games', 'risks': [{'hazard': 'Walls and items attached to walls (eg radiators)', 'risks': ['Collisions with walls causing injuries to people.'], 'affects': ['Young people'], 'controls': ['Mark a line on the floor about two metres before the walls at each end to show the safe zone. Explain the safe zone to players (for example, no one should run in the safe zone).', 'Consider the height and position of permanent fixings to walls, can they be changed.', 'Add additional safe zone marking around objects permanently fixed to walls where necessary.']}, {'hazard': 'Tables and chairs (and other obstructions)', 'risks': ['Collisions with obstacles.', 'Tripping on tables and chairs them causing injuries to people.'], 'affects': ['Young people', 'Adult volunteers'], 'controls': ['Store chairs and tables safely out of the way if possible, or move them to a safe area when playing a game.', 'Work with Patrol Leaders/ Young Leaders to organise moving items at the beginning of the game.', 'Ensure everyone knows how to move heavy items safely.']}, {'hazard': 'Floor', 'risks': ['Slips', 'Trips', 'Falls'], 'affects': ['Young people'], 'controls': ['Check that the play area is clear of small objects, particles, and spills that could increase risk of tripping or slipping or cause injury if someone falls on them.', \"Make sure that players are wearing appropriate footwear and it's secured to their feet (check laces are tied and so on).\"]}, {'hazard': 'Other players', 'risks': ['Collisions', 'Tripping up.', 'Grabbing others or their clothing.'], 'affects': ['Young people', 'Adult volunteers'], 'controls': ['Explain the rules clearly at the start of the game each time it is played.', 'Monitor the mood level throughout the game. Use a clear communication to stop the game - everyone should stop as soon as they hear two blasts on the whistle or anyone shouting stop.', 'Have a clear, unobstructing location for those not participating in the game.', 'Ensure all of section is adequately supervised, both those YP playing and those not.']}, {'hazard': 'Windows and doors', 'risks': ['collisions with windows and doors causing injuries to people.'], 'affects': ['Young people'], 'controls': ['Close all doors (including store cupboard) and windows where possible to make sure there aren’t any additional obstacles.', 'Where windows or doors need to be left open (including for ventilation), they must be opened outwards not inwards.']}, {'hazard': 'Equipment', 'risks': ['Injury due to unsuitability.', 'Poor repair.'], 'affects': ['Young people'], 'controls': ['Check any equipment is in good repair before each game.', 'Store equipment safely while not in supervised use.', 'Instruct young people on proper and acceptable use of equipment before each game.']}, {'hazard': 'Accidents and Incidents', 'risks': ['Poor management leading to detrimental effects, injuries'], 'affects': ['Young people'], 'controls': ['Designated First Aider, 1st aid kit regulalrly checked.', 'Emergency medications to hand (eg Asthma inhaler).', 'Game to be halted in order for injured/ill person to leave game safely.']}, {'hazard': 'Individual Needs.', 'risks': ['Exclusion', 'Upset', 'Injury.'], 'affects': ['Young people'], 'controls': ['All abilities of group considered. Adjustments made to ensure everyone can join in if they choose.', 'Safe area/additional activity or task for those who choose not to actively play.', 'Individual support in place is necessary (eg. Ear defenders or an additional supporting adult).']}]}]),\n",
       " dict_values([{'location': 'Large outdoor grassy space adjacent to a road and car park.', 'activity': 'Outdoor active games aka wide games.', 'n': 5}, {'location': 'Outdoor grassy area', 'activity': \"Outdoor 'wide' games'\", 'risks': [{'hazard': 'Terrain', 'risks': ['Injury', 'Illness'], 'affects': ['Young people'], 'controls': ['Check that the play area is clear of small objects, particles, and animal faeces that could increase risk of tripping or slipping or cause injury if someone falls on them.', 'Check the ground is safe (eg: not too wet or muddy). Halt the game if it becomes so during the game.', \"Make sure that players are wearing appropriate footwear and it's secured to their feet (check laces are tied and so on).\", 'Leaders will encourage everyone to wear long trousers if there are concerns over foliage or ticks. If necessary, tick checks to be advised in writing to parents', 'Leaders will brief young people on behaviour in the environment, including avoiding brambles, nettles, and so on.']}, {'hazard': 'Fixed / immoveable objects', 'risks': ['Collision injury'], 'affects': ['Young people'], 'controls': ['Playing zone to avoid/ mark out of bounds dangerous objects and areas (eg: steep, stony bank or unsafe structures).', \"Playing zone to stop 2m short of walls, fences and boundaries to allow 'stopping' space.\"]}, {'hazard': 'Roads and Traffic', 'risks': ['Collision injury.'], 'affects': ['Young people'], 'controls': ['Game area and access to it away from traffic or roads.', 'We will use the gated area next to our meeting place or the field next door.', \"We will finish activities and return to our meeting place 15 minutes before the session ends so we don't interact with parents and carers arriving in cars.\"]}, {'hazard': 'Large area', 'risks': ['Young people out of sight', 'Lost', 'Injured', 'Inappropriate behaviour'], 'affects': ['Young people'], 'controls': ['Playing zone clearly explained before each game is played.', 'Players to remain in sight at all times', 'Playing area restricted to main field, gates will be closed', \"Regular head counts to be carried out, young people to be monitored and a 'let us know' toilet system in place.\"]}, {'hazard': 'Weather', 'risks': ['Inclement weather causing hypo/hyperthermia.', 'Injury on wet ground.'], 'affects': ['Young people'], 'controls': ['The leader will monitor the weather forcast in advance. If unsuitable weather forecast (eg. Heavy rain or extreme heat) alternative activity to be provided.', 'Leader in charge to halt game if weather gets too wet/cold/hot.', 'Appropriate clothing to be advised on and worn.', 'Suitable footwear mandatory.']}]}])]"
      ]
     },
     "execution_count": 34,
     "metadata": {},
     "output_type": "execute_result"
    }
   ],
   "source": [
    "import json\n",
    "\n",
    "from langchain_chroma import Chroma \n",
    "from langchain_core.example_selectors import SemanticSimilarityExampleSelector\n",
    "from langchain_openai import OpenAIEmbeddings\n",
    "\n",
    "with open(\"examples.json\") as f:\n",
    "    examples = json.load(f)\n",
    "\n",
    "to_vectorize = [example.values() for example in examples]\n",
    "# str_examples = [{\"input\":json.dumps(example[\"input\"]), \"output\":json.dumps(example[\"output\"])}for example in examples]\n",
    "# embeddings = OpenAIEmbeddings()\n",
    "vectorstore = Chroma.from_texts(to_vectorize, embeddings, metadatas=str_examples)\n",
    "to_vectorize\n"
   ]
  },
  {
   "cell_type": "code",
   "execution_count": 28,
   "metadata": {},
   "outputs": [
    {
     "data": {
      "text/plain": [
       "[{'input': '{\"location\": \"The scout hut is large brick building with a hard wooden floor.\", \"activity\": \"Indoor active games.\", \"n\": 9}',\n",
       "  'output': '{\"location\": \"Scout Hut\", \"activity\": \"Indoor games\", \"risks\": [{\"hazard\": \"Walls and items attached to walls (eg radiators)\", \"risks\": [\"Collisions with walls causing injuries to people.\"], \"affects\": [\"Young people\"], \"controls\": [\"Mark a line on the floor about two metres before the walls at each end to show the safe zone. Explain the safe zone to players (for example, no one should run in the safe zone).\", \"Consider the height and position of permanent fixings to walls, can they be changed.\", \"Add additional safe zone marking around objects permanently fixed to walls where necessary.\"]}, {\"hazard\": \"Tables and chairs (and other obstructions)\", \"risks\": [\"Collisions with obstacles.\", \"Tripping on tables and chairs them causing injuries to people.\"], \"affects\": [\"Young people\", \"Adult volunteers\"], \"controls\": [\"Store chairs and tables safely out of the way if possible, or move them to a safe area when playing a game.\", \"Work with Patrol Leaders/ Young Leaders to organise moving items at the beginning of the game.\", \"Ensure everyone knows how to move heavy items safely.\"]}, {\"hazard\": \"Floor\", \"risks\": [\"Slips\", \"Trips\", \"Falls\"], \"affects\": [\"Young people\"], \"controls\": [\"Check that the play area is clear of small objects, particles, and spills that could increase risk of tripping or slipping or cause injury if someone falls on them.\", \"Make sure that players are wearing appropriate footwear and it\\'s secured to their feet (check laces are tied and so on).\"]}, {\"hazard\": \"Other players\", \"risks\": [\"Collisions\", \"Tripping up.\", \"Grabbing others or their clothing.\"], \"affects\": [\"Young people\", \"Adult volunteers\"], \"controls\": [\"Explain the rules clearly at the start of the game each time it is played.\", \"Monitor the mood level throughout the game. Use a clear communication to stop the game - everyone should stop as soon as they hear two blasts on the whistle or anyone shouting stop.\", \"Have a clear, unobstructing location for those not participating in the game.\", \"Ensure all of section is adequately supervised, both those YP playing and those not.\"]}, {\"hazard\": \"Windows and doors\", \"risks\": [\"collisions with windows and doors causing injuries to people.\"], \"affects\": [\"Young people\"], \"controls\": [\"Close all doors (including store cupboard) and windows where possible to make sure there aren\\\\u2019t any additional obstacles.\", \"Where windows or doors need to be left open (including for ventilation), they must be opened outwards not inwards.\"]}, {\"hazard\": \"Equipment\", \"risks\": [\"Injury due to unsuitability.\", \"Poor repair.\"], \"affects\": [\"Young people\"], \"controls\": [\"Check any equipment is in good repair before each game.\", \"Store equipment safely while not in supervised use.\", \"Instruct young people on proper and acceptable use of equipment before each game.\"]}, {\"hazard\": \"Accidents and Incidents\", \"risks\": [\"Poor management leading to detrimental effects, injuries\"], \"affects\": [\"Young people\"], \"controls\": [\"Designated First Aider, 1st aid kit regulalrly checked.\", \"Emergency medications to hand (eg Asthma inhaler).\", \"Game to be halted in order for injured/ill person to leave game safely.\"]}, {\"hazard\": \"Individual Needs.\", \"risks\": [\"Exclusion\", \"Upset\", \"Injury.\"], \"affects\": [\"Young people\"], \"controls\": [\"All abilities of group considered. Adjustments made to ensure everyone can join in if they choose.\", \"Safe area/additional activity or task for those who choose not to actively play.\", \"Individual support in place is necessary (eg. Ear defenders or an additional supporting adult).\"]}]}'},\n",
       " {'input': '{\"location\": \"The scout hut is large brick building with a hard wooden floor.\", \"activity\": \"Indoor active games.\", \"n\": 9}',\n",
       "  'output': '{\"location\": \"Scout Hut\", \"activity\": \"Indoor games\", \"risks\": [{\"hazard\": \"Walls and items attached to walls (eg radiators)\", \"risks\": [\"Collisions with walls causing injuries to people.\"], \"affects\": [\"Young people\"], \"controls\": [\"Mark a line on the floor about two metres before the walls at each end to show the safe zone. Explain the safe zone to players (for example, no one should run in the safe zone).\", \"Consider the height and position of permanent fixings to walls, can they be changed.\", \"Add additional safe zone marking around objects permanently fixed to walls where necessary.\"]}, {\"hazard\": \"Tables and chairs (and other obstructions)\", \"risks\": [\"Collisions with obstacles.\", \"Tripping on tables and chairs them causing injuries to people.\"], \"affects\": [\"Young people\", \"Adult volunteers\"], \"controls\": [\"Store chairs and tables safely out of the way if possible, or move them to a safe area when playing a game.\", \"Work with Patrol Leaders/ Young Leaders to organise moving items at the beginning of the game.\", \"Ensure everyone knows how to move heavy items safely.\"]}, {\"hazard\": \"Floor\", \"risks\": [\"Slips\", \"Trips\", \"Falls\"], \"affects\": [\"Young people\"], \"controls\": [\"Check that the play area is clear of small objects, particles, and spills that could increase risk of tripping or slipping or cause injury if someone falls on them.\", \"Make sure that players are wearing appropriate footwear and it\\'s secured to their feet (check laces are tied and so on).\"]}, {\"hazard\": \"Other players\", \"risks\": [\"Collisions\", \"Tripping up.\", \"Grabbing others or their clothing.\"], \"affects\": [\"Young people\", \"Adult volunteers\"], \"controls\": [\"Explain the rules clearly at the start of the game each time it is played.\", \"Monitor the mood level throughout the game. Use a clear communication to stop the game - everyone should stop as soon as they hear two blasts on the whistle or anyone shouting stop.\", \"Have a clear, unobstructing location for those not participating in the game.\", \"Ensure all of section is adequately supervised, both those YP playing and those not.\"]}, {\"hazard\": \"Windows and doors\", \"risks\": [\"collisions with windows and doors causing injuries to people.\"], \"affects\": [\"Young people\"], \"controls\": [\"Close all doors (including store cupboard) and windows where possible to make sure there aren\\\\u2019t any additional obstacles.\", \"Where windows or doors need to be left open (including for ventilation), they must be opened outwards not inwards.\"]}, {\"hazard\": \"Equipment\", \"risks\": [\"Injury due to unsuitability.\", \"Poor repair.\"], \"affects\": [\"Young people\"], \"controls\": [\"Check any equipment is in good repair before each game.\", \"Store equipment safely while not in supervised use.\", \"Instruct young people on proper and acceptable use of equipment before each game.\"]}, {\"hazard\": \"Accidents and Incidents\", \"risks\": [\"Poor management leading to detrimental effects, injuries\"], \"affects\": [\"Young people\"], \"controls\": [\"Designated First Aider, 1st aid kit regulalrly checked.\", \"Emergency medications to hand (eg Asthma inhaler).\", \"Game to be halted in order for injured/ill person to leave game safely.\"]}, {\"hazard\": \"Individual Needs.\", \"risks\": [\"Exclusion\", \"Upset\", \"Injury.\"], \"affects\": [\"Young people\"], \"controls\": [\"All abilities of group considered. Adjustments made to ensure everyone can join in if they choose.\", \"Safe area/additional activity or task for those who choose not to actively play.\", \"Individual support in place is necessary (eg. Ear defenders or an additional supporting adult).\"]}]}'}]"
      ]
     },
     "execution_count": 28,
     "metadata": {},
     "output_type": "execute_result"
    }
   ],
   "source": [
    "example_selector = SemanticSimilarityExampleSelector(\n",
    "    vectorstore=vectorstore,\n",
    "    k=2,\n",
    ")\n",
    "\n",
    "# The prompt template will load examples by passing the input do the `select_examples` method\n",
    "example_selector.select_examples({\"input\": \"scout hut\"})"
   ]
  },
  {
   "cell_type": "code",
   "execution_count": 4,
   "metadata": {},
   "outputs": [
    {
     "name": "stdout",
     "output_type": "stream",
     "text": [
      "[HumanMessage(content='2 🦜 3', additional_kwargs={}, response_metadata={}), AIMessage(content='5', additional_kwargs={}, response_metadata={}), HumanMessage(content='2 🦜 4', additional_kwargs={}, response_metadata={}), AIMessage(content='6', additional_kwargs={}, response_metadata={})]\n"
     ]
    }
   ],
   "source": [
    "from langchain_core.prompts import ChatPromptTemplate, FewShotChatMessagePromptTemplate\n",
    "\n",
    "# Define the few-shot prompt.\n",
    "few_shot_prompt = FewShotChatMessagePromptTemplate(\n",
    "    # The input variables select the values to pass to the example_selector\n",
    "    input_variables=[\"input\"],\n",
    "    example_selector=example_selector,\n",
    "    # Define how each example will be formatted.\n",
    "    # In this case, each example will become 2 messages:\n",
    "    # 1 human, and 1 AI\n",
    "    example_prompt=ChatPromptTemplate.from_messages(\n",
    "        [(\"human\", \"{input}\"), (\"ai\", \"{output}\")]\n",
    "    ),\n",
    ")\n",
    "\n",
    "print(few_shot_prompt.invoke(input=\"What's 3 🦜 3?\").to_messages())"
   ]
  },
  {
   "cell_type": "code",
   "execution_count": 11,
   "metadata": {},
   "outputs": [
    {
     "data": {
      "text/plain": [
       "[HumanMessage(content='\\nLocation: The scout hut is large brick building with a hard wooden floor.\\n\\nActivity: Indoor active games.\\n\\nIdentify 9 risk(s). Rank them from highest impact to lowest impact.\\n', additional_kwargs={}, response_metadata={}),\n",
       " AIMessage(content='', additional_kwargs={}, response_metadata={}, name='583c7447-15d7-44c3-828d-c2ae4ddd6eaa', tool_calls=[{'name': 'RiskAssessment', 'args': {'activity': 'Indoor games', 'location': 'Scout Hut', 'risks': [{'hazard': 'Walls and items attached to walls (eg radiators)', 'risks': ['Collisions with walls causing injuries to people.'], 'affects': ['Young people'], 'controls': ['Mark a line on the floor about two metres before the walls at each end to show the safe zone. Explain the safe zone to players (for example, no one should run in the safe zone).', 'Consider the height and position of permanent fixings to walls, can they be changed.', 'Add additional safe zone marking around objects permanently fixed to walls where necessary.']}, {'hazard': 'Tables and chairs (and other obstructions)', 'risks': ['Collisions with obstacles.', 'Tripping on tables and chairs them causing injuries to people.'], 'affects': ['Young people', 'Adult volunteers'], 'controls': ['Store chairs and tables safely out of the way if possible, or move them to a safe area when playing a game.', 'Work with Patrol Leaders/ Young Leaders to organise moving items at the beginning of the game.', 'Ensure everyone knows how to move heavy items safely.']}, {'hazard': 'Floor', 'risks': ['Slips', 'Trips', 'Falls'], 'affects': ['Young people'], 'controls': ['Check that the play area is clear of small objects, particles, and spills that could increase risk of tripping or slipping or cause injury if someone falls on them.', \"Make sure that players are wearing appropriate footwear and it's secured to their feet (check laces are tied and so on).\"]}, {'hazard': 'Other players', 'risks': ['Collisions', 'Tripping up.', 'Grabbing others or their clothing.'], 'affects': ['Young people', 'Adult volunteers'], 'controls': ['Explain the rules clearly at the start of the game each time it is played.', 'Monitor the mood level throughout the game. Use a clear communication to stop the game - everyone should stop as soon as they hear two blasts on the whistle or anyone shouting stop.', 'Have a clear, unobstructing location for those not participating in the game.', 'Ensure all of section is adequately supervised, both those YP playing and those not.']}, {'hazard': 'Windows and doors', 'risks': ['collisions with windows and doors causing injuries to people.'], 'affects': ['Young people'], 'controls': ['Close all doors (including store cupboard) and windows where possible to make sure there aren’t any additional obstacles.', 'Where windows or doors need to be left open (including for ventilation), they must be opened outwards not inwards.']}, {'hazard': 'Equipment', 'risks': ['Injury due to unsuitability.', 'Poor repair.'], 'affects': ['Young people'], 'controls': ['Check any equipment is in good repair before each game.', 'Store equipment safely while not in supervised use.', 'Instruct young people on proper and acceptable use of equipment before each game.']}, {'hazard': 'Accidents and Incidents', 'risks': ['Poor management leading to detrimental effects, injuries'], 'affects': ['Young people'], 'controls': ['Designated First Aider, 1st aid kit regulalrly checked.', 'Emergency medications to hand (eg Asthma inhaler).', 'Game to be halted in order for injured/ill person to leave game safely.']}, {'hazard': 'Individual Needs.', 'risks': ['Exclusion', 'Upset', 'Injury.'], 'affects': ['Young people'], 'controls': ['All abilities of group considered. Adjustments made to ensure everyone can join in if they choose.', 'Safe area/additional activity or task for those who choose not to actively play.', 'Individual support in place is necessary (eg. Ear defenders or an additional supporting adult).']}]}, 'id': '583c7447-15d7-44c3-828d-c2ae4ddd6eaa', 'type': 'tool_call'}]),\n",
       " ToolMessage(content='', tool_call_id='583c7447-15d7-44c3-828d-c2ae4ddd6eaa'),\n",
       " HumanMessage(content='\\nLocation: Large outdoor grassy space adjacent to a road and car park.\\n\\nActivity: Outdoor active games aka wide games.\\n\\nIdentify 5 risk(s). Rank them from highest impact to lowest impact.\\n', additional_kwargs={}, response_metadata={}),\n",
       " AIMessage(content='', additional_kwargs={}, response_metadata={}, name='00ab6436-9c09-4b3a-8707-f77a33ef678a', tool_calls=[{'name': 'RiskAssessment', 'args': {'activity': \"Outdoor 'wide' games'\", 'location': 'Outdoor grassy area', 'risks': [{'hazard': 'Terrain', 'risks': ['Injury', 'Illness'], 'affects': ['Young people'], 'controls': ['Check that the play area is clear of small objects, particles, and animal faeces that could increase risk of tripping or slipping or cause injury if someone falls on them.', 'Check the ground is safe (eg: not too wet or muddy). Halt the game if it becomes so during the game.', \"Make sure that players are wearing appropriate footwear and it's secured to their feet (check laces are tied and so on).\", 'Leaders will encourage everyone to wear long trousers if there are concerns over foliage or ticks. If necessary, tick checks to be advised in writing to parents', 'Leaders will brief young people on behaviour in the environment, including avoiding brambles, nettles, and so on.']}, {'hazard': 'Fixed / immoveable objects', 'risks': ['Collision injury'], 'affects': ['Young people'], 'controls': ['Playing zone to avoid/ mark out of bounds dangerous objects and areas (eg: steep, stony bank or unsafe structures).', \"Playing zone to stop 2m short of walls, fences and boundaries to allow 'stopping' space.\"]}, {'hazard': 'Roads and Traffic', 'risks': ['Collision injury.'], 'affects': ['Young people'], 'controls': ['Game area and access to it away from traffic or roads.', 'We will use the gated area next to our meeting place or the field next door.', \"We will finish activities and return to our meeting place 15 minutes before the session ends so we don't interact with parents and carers arriving in cars.\"]}, {'hazard': 'Large area', 'risks': ['Young people out of sight', 'Lost', 'Injured', 'Inappropriate behaviour'], 'affects': ['Young people'], 'controls': ['Playing zone clearly explained before each game is played.', 'Players to remain in sight at all times', 'Playing area restricted to main field, gates will be closed', \"Regular head counts to be carried out, young people to be monitored and a 'let us know' toilet system in place.\"]}, {'hazard': 'Weather', 'risks': ['Inclement weather causing hypo/hyperthermia.', 'Injury on wet ground.'], 'affects': ['Young people'], 'controls': ['The leader will monitor the weather forcast in advance. If unsuitable weather forecast (eg. Heavy rain or extreme heat) alternative activity to be provided.', 'Leader in charge to halt game if weather gets too wet/cold/hot.', 'Appropriate clothing to be advised on and worn.', 'Suitable footwear mandatory.']}]}, 'id': '00ab6436-9c09-4b3a-8707-f77a33ef678a', 'type': 'tool_call'}]),\n",
       " ToolMessage(content='', tool_call_id='00ab6436-9c09-4b3a-8707-f77a33ef678a')]"
      ]
     },
     "execution_count": 11,
     "metadata": {},
     "output_type": "execute_result"
    }
   ],
   "source": [
    "import json\n",
    "from scout.risk.prompts import user_prompt\n",
    "from scout.risk.models import ExampleRiskAssessment\n",
    "import itertools\n",
    "\n",
    "with open(\"assessment_examples.json\") as f:\n",
    "    examples = json.load(f)\n",
    "\n",
    "examples = [ExampleRiskAssessment(**example).to_messages(user_prompt) for example in examples]\n",
    "\n",
    "\n",
    "examples = list(itertools.chain(*examples))\n",
    "examples"
   ]
  }
 ],
 "metadata": {
  "kernelspec": {
   "display_name": ".venv",
   "language": "python",
   "name": "python3"
  },
  "language_info": {
   "codemirror_mode": {
    "name": "ipython",
    "version": 3
   },
   "file_extension": ".py",
   "mimetype": "text/x-python",
   "name": "python",
   "nbconvert_exporter": "python",
   "pygments_lexer": "ipython3",
   "version": "3.12.7"
  }
 },
 "nbformat": 4,
 "nbformat_minor": 2
}
