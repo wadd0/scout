{
 "cells": [
  {
   "cell_type": "code",
   "execution_count": 1,
   "metadata": {},
   "outputs": [],
   "source": [
    "# TODO\n",
    "# catologue risks\n",
    "# refer to hse (health and safety executive)\n",
    "# We have caught carp, barbel, roach, rudd, perch, skimmer, bream, gudgeon, tench,\n",
    "#"
   ]
  },
  {
   "cell_type": "code",
   "execution_count": 1,
   "metadata": {},
   "outputs": [],
   "source": [
    "from IPython.display import display, Markdown"
   ]
  },
  {
   "cell_type": "code",
   "execution_count": 2,
   "metadata": {},
   "outputs": [
    {
     "data": {
      "text/plain": [
       "True"
      ]
     },
     "execution_count": 2,
     "metadata": {},
     "output_type": "execute_result"
    }
   ],
   "source": [
    "from dotenv import load_dotenv, find_dotenv\n",
    "\n",
    "load_dotenv(find_dotenv())"
   ]
  },
  {
   "cell_type": "code",
   "execution_count": 3,
   "metadata": {},
   "outputs": [
    {
     "data": {
      "text/plain": [
       "'The output should be formatted as a JSON instance that conforms to the JSON schema below.\\n\\nAs an example, for the schema {\"properties\": {\"foo\": {\"title\": \"Foo\", \"description\": \"a list of strings\", \"type\": \"array\", \"items\": {\"type\": \"string\"}}}, \"required\": [\"foo\"]}\\nthe object {\"foo\": [\"bar\", \"baz\"]} is a well-formatted instance of the schema. The object {\"properties\": {\"foo\": [\"bar\", \"baz\"]}} is not well-formatted.\\n\\nHere is the output schema:\\n```\\n{\"$defs\": {\"Risk\": {\"description\": \"Describes a risk.\", \"properties\": {\"hazard\": {\"description\": \"Sentence describing the hazard. A hazard is something that may cause harm or damage.\", \"title\": \"Hazard\", \"type\": \"string\"}, \"risks\": {\"description\": \"Risks associated with the hazard. A risk is the harm that may occur from the hazard. Describe each risk in a sentence.\", \"items\": {\"type\": \"string\"}, \"title\": \"Risks\", \"type\": \"array\"}, \"affects\": {\"description\": \"Who is at risk.\", \"items\": {\"enum\": [\"Young people\", \"Adult volunteers\"], \"type\": \"string\"}, \"title\": \"Affects\", \"type\": \"array\"}, \"controls\": {\"description\": \"Controls are ways of making the activity safer by removing or reducing the risk. For example, you may use a different piece of equipment or you might change the way you do the activity.\", \"items\": {\"type\": \"string\"}, \"title\": \"Controls\", \"type\": \"array\"}}, \"required\": [\"hazard\", \"risks\", \"affects\", \"controls\"], \"title\": \"Risk\", \"type\": \"object\"}}, \"description\": \"Risk assessment. Activity and location must be limited to a few words.\", \"properties\": {\"activity\": {\"description\": \"The activity.\", \"title\": \"Activity\", \"type\": \"string\"}, \"location\": {\"description\": \"The location.\", \"title\": \"Location\", \"type\": \"string\"}, \"risks\": {\"items\": {\"$ref\": \"#/$defs/Risk\"}, \"title\": \"Risks\", \"type\": \"array\"}}, \"required\": [\"activity\", \"location\", \"risks\"]}\\n```'"
      ]
     },
     "execution_count": 3,
     "metadata": {},
     "output_type": "execute_result"
    }
   ],
   "source": [
    "from scout.risk.models import RiskAssessment\n",
    "from scout.risk.prompts import assessment_prompt\n",
    "\n",
    "from langchain.output_parsers import PydanticOutputParser\n",
    "\n",
    "output_parser = PydanticOutputParser(pydantic_object=RiskAssessment)\n",
    "format_instructions = output_parser.get_format_instructions()\n",
    "\n",
    "format_instructions"
   ]
  },
  {
   "cell_type": "code",
   "execution_count": 25,
   "metadata": {},
   "outputs": [],
   "source": [
    "import json\n",
    "from scout.risk.prompts import user_prompt\n",
    "from scout.risk.models import ExampleRiskAssessment\n",
    "import itertools\n",
    "\n",
    "with open(\"assessment_examples.json\") as f:\n",
    "    examples = json.load(f)\n",
    "\n",
    "examples = [ExampleRiskAssessment(**example).to_messages(user_prompt) for example in examples]\n",
    "\n",
    "\n",
    "examples = list(itertools.chain(*examples))\n",
    "# examples = []"
   ]
  },
  {
   "cell_type": "code",
   "execution_count": 26,
   "metadata": {},
   "outputs": [],
   "source": [
    "prompt = assessment_prompt.partial(examples=examples)"
   ]
  },
  {
   "cell_type": "code",
   "execution_count": 35,
   "metadata": {},
   "outputs": [],
   "source": [
    "from langchain_openai import ChatOpenAI\n",
    "\n",
    "model = ChatOpenAI(model=\"gpt-4o\", temperature=0.5)\n",
    "llm = model.with_structured_output(RiskAssessment, include_raw=True)\n",
    "app = prompt | llm\n",
    "\n",
    "risks = app.invoke(\n",
    "    {\n",
    "        # \"activity\": (\n",
    "        #     \"Pumpkin carving with tee light candles. \" \n",
    "        #     \"Pumpkin carving will be done on tables in groups of 2, 2 groups per table.\"\n",
    "        # ),\n",
    "        # \"activity\": \"Variety of indoor games such as dodgeball, crab football etc.\",\n",
    "        # \"activity\": \"Using a knife to whittle wood.\",\n",
    "        # \"activity\": \"Rock paper scissors.\",\n",
    "        # \"activity\": (\n",
    "        #     \"Visiting 2 local chip shops and sample the chips. Scouts will need to cross roads and not \"\n",
    "        #     \"get lost. Scouts will travel in groups of 4, each with one adult leader. Scouts should plan.\"\n",
    "        # ),\n",
    "        \"activity\": \"Scouts making pancakes in the kitchen.\",\n",
    "\n",
    "        # \"location\": \"The scout kitchen is a medium sized kitchen similar to a typical family kitchen\",\n",
    "        \"location\": (\n",
    "            \"The Queens Hall is large brick building with a hard wooden floor and a raised stage at the front. \"\n",
    "            \"I contains a number of exposed pillars to support the roof and stacked chairs around the perimeter.\"\n",
    "        ),\n",
    "        # \"location\": \"Local urban area at night.\",\n",
    "        \"n\": 10,\n",
    "    }\n",
    ")\n"
   ]
  },
  {
   "cell_type": "code",
   "execution_count": 36,
   "metadata": {},
   "outputs": [
    {
     "data": {
      "text/markdown": [
       "## Making pancakes - The Queens Hall\n",
       "\n",
       "### Hazard\n",
       "Hot surfaces and cooking equipment\n",
       "### Affects\n",
       "Young people\n",
       "\n",
       "Adult volunteers\n",
       "### Risks\n",
       "Burns from hot pans or stove tops.\n",
       "\n",
       "Scalds from hot liquids.\n",
       "### Controls\n",
       "Ensure all participants are briefed on the safe use of cooking equipment.\n",
       "\n",
       "Provide supervision at all times when using hot surfaces or equipment.\n",
       "\n",
       "Use oven mitts and pot holders when handling hot items.\n",
       "\n",
       "\n",
       "\n",
       "\n",
       "### Hazard\n",
       "Slippery floor\n",
       "### Affects\n",
       "Young people\n",
       "\n",
       "Adult volunteers\n",
       "### Risks\n",
       "Slips and falls on wet or greasy surfaces.\n",
       "### Controls\n",
       "Clean up spills immediately.\n",
       "\n",
       "Ensure the floor is dry before starting the activity.\n",
       "\n",
       "Wear non-slip footwear.\n",
       "\n",
       "\n",
       "\n",
       "\n",
       "### Hazard\n",
       "Sharp utensils\n",
       "### Affects\n",
       "Young people\n",
       "### Risks\n",
       "Cuts from knives or other sharp kitchen tools.\n",
       "### Controls\n",
       "Ensure all participants are briefed on the safe use of knives and sharp tools.\n",
       "\n",
       "Provide supervision when using sharp utensils.\n",
       "\n",
       "Use appropriate cutting techniques.\n",
       "\n",
       "\n",
       "\n",
       "\n",
       "### Hazard\n",
       "Exposed pillars\n",
       "### Affects\n",
       "Young people\n",
       "### Risks\n",
       "Collisions causing injury, especially if moving quickly.\n",
       "### Controls\n",
       "Mark pillars with bright tape to increase visibility.\n",
       "\n",
       "Ensure participants are aware of the pillars and to move carefully around them.\n",
       "\n",
       "\n",
       "\n",
       "\n",
       "### Hazard\n",
       "Raised stage\n",
       "### Affects\n",
       "Young people\n",
       "### Risks\n",
       "Falls from the stage causing injury.\n",
       "### Controls\n",
       "Restrict access to the stage area unless necessary for the activity.\n",
       "\n",
       "Supervise any activity that requires access to the stage.\n",
       "\n",
       "\n",
       "\n",
       "\n",
       "### Hazard\n",
       "Stacked chairs\n",
       "### Affects\n",
       "Young people\n",
       "\n",
       "Adult volunteers\n",
       "### Risks\n",
       "Chairs falling causing injury.\n",
       "\n",
       "Tripping over chairs.\n",
       "### Controls\n",
       "Ensure chairs are stacked safely and securely.\n",
       "\n",
       "Keep stacked chairs away from the activity area.\n",
       "\n",
       "Inform participants of the hazard and to be cautious around stacked chairs.\n",
       "\n",
       "\n",
       "\n",
       "\n",
       "### Hazard\n",
       "Open flames or gas leaks\n",
       "### Affects\n",
       "Young people\n",
       "\n",
       "Adult volunteers\n",
       "### Risks\n",
       "Fire hazard causing burns or smoke inhalation.\n",
       "### Controls\n",
       "Ensure all gas connections are secure before starting.\n",
       "\n",
       "Have a fire extinguisher and fire blanket readily available.\n",
       "\n",
       "Train participants on what to do in case of a fire.\n",
       "\n",
       "\n",
       "\n",
       "\n",
       "### Hazard\n",
       "Electrical appliances\n",
       "### Affects\n",
       "Young people\n",
       "\n",
       "Adult volunteers\n",
       "### Risks\n",
       "Electric shock or burns from malfunctioning appliances.\n",
       "### Controls\n",
       "Inspect all electrical appliances for damage before use.\n",
       "\n",
       "Do not overload electrical sockets.\n",
       "\n",
       "Ensure appliances are turned off when not in use.\n",
       "\n",
       "\n",
       "\n",
       "\n",
       "### Hazard\n",
       "Allergic reactions\n",
       "### Affects\n",
       "Young people\n",
       "### Risks\n",
       "Allergic reactions to ingredients used in pancakes.\n",
       "### Controls\n",
       "Check for any known allergies among participants before starting.\n",
       "\n",
       "Provide alternative ingredients if necessary.\n",
       "\n",
       "Have emergency contact and medical information available.\n",
       "\n",
       "\n",
       "\n",
       "\n",
       "### Hazard\n",
       "Inappropriate behaviour\n",
       "### Affects\n",
       "Young people\n",
       "### Risks\n",
       "Horseplay leading to accidents or injuries.\n",
       "### Controls\n",
       "Set clear rules and boundaries before starting the activity.\n",
       "\n",
       "Monitor behaviour closely and intervene if necessary.\n",
       "\n",
       "Ensure adequate supervision at all times.\n",
       "\n",
       "\n"
      ],
      "text/plain": [
       "<IPython.core.display.Markdown object>"
      ]
     },
     "metadata": {},
     "output_type": "display_data"
    }
   ],
   "source": [
    "display(Markdown(risks[\"parsed\"].to_markdown()))"
   ]
  }
 ],
 "metadata": {
  "kernelspec": {
   "display_name": ".venv",
   "language": "python",
   "name": "python3"
  },
  "language_info": {
   "codemirror_mode": {
    "name": "ipython",
    "version": 3
   },
   "file_extension": ".py",
   "mimetype": "text/x-python",
   "name": "python",
   "nbconvert_exporter": "python",
   "pygments_lexer": "ipython3",
   "version": "3.12.7"
  }
 },
 "nbformat": 4,
 "nbformat_minor": 2
}
