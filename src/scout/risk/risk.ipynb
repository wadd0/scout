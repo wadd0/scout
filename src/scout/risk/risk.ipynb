{
 "cells": [
  {
   "cell_type": "code",
   "execution_count": 1,
   "metadata": {},
   "outputs": [],
   "source": [
    "# TODO\n",
    "# catologue risks\n",
    "# refer to hse (health and safety executive)\n",
    "# We have caught carp, barbel, roach, rudd, perch, skimmer, bream, gudgeon, tench,\n",
    "#"
   ]
  },
  {
   "cell_type": "code",
   "execution_count": 2,
   "metadata": {},
   "outputs": [],
   "source": [
    "from IPython.display import display, Markdown"
   ]
  },
  {
   "cell_type": "code",
   "execution_count": 3,
   "metadata": {},
   "outputs": [
    {
     "data": {
      "text/plain": [
       "True"
      ]
     },
     "execution_count": 3,
     "metadata": {},
     "output_type": "execute_result"
    }
   ],
   "source": [
    "from dotenv import load_dotenv, find_dotenv\n",
    "\n",
    "load_dotenv(find_dotenv())"
   ]
  },
  {
   "cell_type": "code",
   "execution_count": 4,
   "metadata": {},
   "outputs": [
    {
     "data": {
      "text/plain": [
       "'The output should be formatted as a JSON instance that conforms to the JSON schema below.\\n\\nAs an example, for the schema {\"properties\": {\"foo\": {\"title\": \"Foo\", \"description\": \"a list of strings\", \"type\": \"array\", \"items\": {\"type\": \"string\"}}}, \"required\": [\"foo\"]}\\nthe object {\"foo\": [\"bar\", \"baz\"]} is a well-formatted instance of the schema. The object {\"properties\": {\"foo\": [\"bar\", \"baz\"]}} is not well-formatted.\\n\\nHere is the output schema:\\n```\\n{\"$defs\": {\"Risk\": {\"description\": \"Describes a risk.\", \"properties\": {\"hazard\": {\"description\": \"Descriptions of the hazard. A hazard is something that may cause harm or damage.\", \"title\": \"Hazard\", \"type\": \"string\"}, \"risks\": {\"description\": \"Risks associated with the hazard. A risk is the harm that may occur from the hazard. Describe each risk in a sentence.\", \"items\": {\"type\": \"string\"}, \"title\": \"Risks\", \"type\": \"array\"}, \"affects\": {\"description\": \"Who is at risk.\", \"items\": {\"enum\": [\"Young people\", \"Adult volunteers\"], \"type\": \"string\"}, \"title\": \"Affects\", \"type\": \"array\"}, \"controls\": {\"description\": \"Controls are ways of making the activity safer by removing or reducing the risk. For example, you may use a different piece of equipment or you might change the way you do the activity.\", \"items\": {\"type\": \"string\"}, \"title\": \"Controls\", \"type\": \"array\"}}, \"required\": [\"hazard\", \"risks\", \"affects\", \"controls\"], \"title\": \"Risk\", \"type\": \"object\"}}, \"description\": \"Risk assessment. Activity and location must be limited to a few words.\", \"properties\": {\"activity\": {\"description\": \"The activity.\", \"title\": \"Activity\", \"type\": \"string\"}, \"location\": {\"description\": \"The location.\", \"title\": \"Location\", \"type\": \"string\"}, \"risks\": {\"items\": {\"$ref\": \"#/$defs/Risk\"}, \"title\": \"Risks\", \"type\": \"array\"}}, \"required\": [\"activity\", \"location\", \"risks\"]}\\n```'"
      ]
     },
     "execution_count": 4,
     "metadata": {},
     "output_type": "execute_result"
    }
   ],
   "source": [
    "from scout.risk.models import RiskAssessment\n",
    "from scout.risk.prompts import assessment_prompt\n",
    "\n",
    "from langchain.output_parsers import PydanticOutputParser\n",
    "\n",
    "output_parser = PydanticOutputParser(pydantic_object=RiskAssessment)\n",
    "format_instructions = output_parser.get_format_instructions()\n",
    "\n",
    "format_instructions"
   ]
  },
  {
   "cell_type": "code",
   "execution_count": 5,
   "metadata": {},
   "outputs": [
    {
     "name": "stdout",
     "output_type": "stream",
     "text": [
      "[HumanMessage(content='\\nLocation: The scout hut is large brick building with a hard wooden floor.\\n\\nActivity: Indoor active games.\\n\\nIdentify 9 or more risk(s).\\n', additional_kwargs={}, response_metadata={}),\n",
      " AIMessage(content='', additional_kwargs={}, response_metadata={}, name='48d3b298-4f9f-48f3-b125-8ee670de9f40', tool_calls=[{'name': 'RiskAssessment', 'args': {'activity': 'Indoor games', 'location': 'Scout Hut', 'risks': [{'hazard': 'Walls and items attached to walls (eg radiators)', 'risks': ['Collisions with walls causing injuries to people.'], 'affects': ['Young people'], 'controls': ['Mark a line on the floor about two metres before the walls at each end to show the safe zone. Explain the safe zone to players (for example, no one should run in the safe zone).', 'Consider the height and position of permanent fixings to walls, can they be changed.', 'Add additional safe zone marking around objects permanently fixed to walls where necessary.']}, {'hazard': 'Tables and chairs (and other obstructions)', 'risks': ['Collisions with obstacles.', 'Tripping on tables and chairs them causing injuries to people.'], 'affects': ['Young people', 'Adult volunteers'], 'controls': ['Store chairs and tables safely out of the way if possible, or move them to a safe area when playing a game.', 'Work with Patrol Leaders to organise moving items at the beginning of the game.', 'Ensure everyone knows how to move heavy items safely.']}, {'hazard': 'Floor', 'risks': ['Slips', 'Trips', 'Falls'], 'affects': ['Young people'], 'controls': ['Check that the play area is clear of small objects, particles, and spills that could increase risk of tripping or slipping or cause injury if someone falls on them.', \"Make sure that players are wearing appropriate footwear and it's secured to their feet (check laces are tied and so on).\"]}, {'hazard': 'Other players', 'risks': ['Collisions', 'Tripping up.', 'Grabbing others or their clothing.'], 'affects': ['Young people', 'Adult volunteers'], 'controls': ['Explain the rules clearly at the start of the game each time it is played.', 'Monitor the mood level throughout the game. Use a clear communication to stop the game - everyone should stop as soon as they hear two blasts on the whistle or anyone shouting stop.', 'Have a clear, unobstructing location for those not participating in the game.', 'Ensure all of section is adequately supervised, both those young person playing and those not.']}, {'hazard': 'Windows and doors', 'risks': ['collisions with windows and doors causing injuries to people.'], 'affects': ['Young people'], 'controls': ['Close all doors (including store cupboard) and windows where possible to make sure there aren’t any additional obstacles.', 'Where windows or doors need to be left open (including for ventilation), they must be opened outwards not inwards.']}, {'hazard': 'Equipment', 'risks': ['Injury due to unsuitability.', 'Poor repair.'], 'affects': ['Young people'], 'controls': ['Check any equipment is in good repair before each game.', 'Store equipment safely while not in supervised use.', 'Instruct young people on proper and acceptable use of equipment before each game.']}, {'hazard': 'Accidents and Incidents', 'risks': ['Poor management leading to detrimental effects, injuries'], 'affects': ['Young people'], 'controls': ['Designated First Aider, 1st aid kit regulalrly checked.', 'Emergency medications to hand (eg Asthma inhaler).', 'Game to be halted in order for injured/ill person to leave game safely.']}, {'hazard': 'Individual Needs.', 'risks': ['Exclusion', 'Upset', 'Injury.'], 'affects': ['Young people'], 'controls': ['All abilities of group considered. Adjustments made to ensure everyone can join in if they choose.', 'Safe area/additional activity or task for those who choose not to actively play.', 'Individual support in place is necessary (eg. Ear defenders or an additional supporting adult).']}]}, 'id': '48d3b298-4f9f-48f3-b125-8ee670de9f40', 'type': 'tool_call'}]),\n",
      " ToolMessage(content='', tool_call_id='48d3b298-4f9f-48f3-b125-8ee670de9f40'),\n",
      " HumanMessage(content='\\nLocation: Large outdoor grassy space adjacent to a road and car park.\\n\\nActivity: Outdoor active games aka wide games.\\n\\nIdentify 5 or more risk(s).\\n', additional_kwargs={}, response_metadata={}),\n",
      " AIMessage(content='', additional_kwargs={}, response_metadata={}, name='d3956017-436f-4f6c-a7ec-5c32827e6e1f', tool_calls=[{'name': 'RiskAssessment', 'args': {'activity': \"Outdoor 'wide' games'\", 'location': 'Outdoor grassy area', 'risks': [{'hazard': 'Terrain', 'risks': ['Injury', 'Illness'], 'affects': ['Young people'], 'controls': ['Check that the play area is clear of small objects, particles, and animal faeces that could increase risk of tripping or slipping or cause injury if someone falls on them.', 'Check the ground is safe (eg: not too wet or muddy). Halt the game if it becomes so during the game.', \"Make sure that players are wearing appropriate footwear and it's secured to their feet (check laces are tied and so on).\", 'Leaders will encourage everyone to wear long trousers if there are concerns over foliage or ticks. If necessary, tick checks to be advised in writing to parents', 'Leaders will brief young people on behaviour in the environment, including avoiding brambles, nettles, and so on.']}, {'hazard': 'Fixed / immoveable objects', 'risks': ['Collision injury'], 'affects': ['Young people'], 'controls': ['Playing zone to avoid/ mark out of bounds dangerous objects and areas (eg: steep, stony bank or unsafe structures).', \"Playing zone to stop 2m short of walls, fences and boundaries to allow 'stopping' space.\"]}, {'hazard': 'Roads and Traffic', 'risks': ['Collision injury.'], 'affects': ['Young people'], 'controls': ['Game area and access to it away from traffic or roads.', 'We will use the gated area next to our meeting place or the field next door.', \"We will finish activities and return to our meeting place 15 minutes before the session ends so we don't interact with parents and carers arriving in cars.\"]}, {'hazard': 'Large area', 'risks': ['Young people out of sight', 'Lost', 'Injured', 'Inappropriate behaviour'], 'affects': ['Young people'], 'controls': ['Playing zone clearly explained before each game is played.', 'Players to remain in sight at all times', 'Playing area restricted to main field, gates will be closed', \"Regular head counts to be carried out, young people to be monitored and a 'let us know' toilet system in place.\"]}, {'hazard': 'Weather', 'risks': ['Inclement weather causing hyoung persono/hyoung personerthermia.', 'Injury on wet ground.'], 'affects': ['Young people'], 'controls': ['The leader will monitor the weather forcast in advance. If unsuitable weather forecast (eg. Heavy rain or extreme heat) alternative activity to be provided.', 'Leader in charge to halt game if weather gets too wet/cold/hot.', 'Appropriate clothing to be advised on and worn.', 'Suitable footwear mandatory.']}]}, 'id': 'd3956017-436f-4f6c-a7ec-5c32827e6e1f', 'type': 'tool_call'}]),\n",
      " ToolMessage(content='', tool_call_id='d3956017-436f-4f6c-a7ec-5c32827e6e1f'),\n",
      " HumanMessage(content='\\nLocation: The scout hut is large brick building with a hard wooden floor and contains a small kitchen.\\n\\nActivity: Cooking activities at Scout Hut.\\n\\nIdentify 8 or more risk(s).\\n', additional_kwargs={}, response_metadata={}),\n",
      " AIMessage(content='', additional_kwargs={}, response_metadata={}, name='8d747bec-afe3-4619-b6fe-6c3fd41c0e17', tool_calls=[{'name': 'RiskAssessment', 'args': {'activity': 'Indoor cooking', 'location': 'Scout Hut', 'risks': [{'hazard': 'Tables and chairs (and other obstructions).', 'risks': ['Injuries to participants or leaders setting up, moving, or collapsing the items.'], 'affects': ['Young people', 'Adult volunteers'], 'controls': ['Leaders oversee and help with setting up and moving tables and chairs.', 'No one carries tables alone - at least two people carry each table.', \"Stack chairs facing side to the wall so they don't fall. Don't stack chairs more than four chairs high.\", 'Leaders set out tables and chairs at the start of the meeting (based on the planned activities), then push them against the walls until needed.']}, {'hazard': 'Kitchen areas', 'risks': ['Injuries, illness.'], 'affects': ['Young people', 'Adult volunteers'], 'controls': ['Food to be stored in an appropriate manner, even for short periods of time.', 'All users to wash hands on entry to the kitchen, separate hand wash sink with soap/ paper towels in place.', 'Young people not to enter kitchen, adults to bring food and equipment in and out OR young people to work in small groups with adult supervision', 'Overcrowding to be avoided around hot surfaces/ovens and pans/dishes. Leader to direct movements of group.', 'Kitchen hygiene system to be followed (eg: use of coloured chopping boards).']}, {'hazard': 'Cooking equipment', 'risks': ['Is cooking equipment appropriate for the activity?'], 'affects': ['Young people', 'Adult volunteers'], 'controls': ['Check cooking equipment is in a hygeinic and generally good condition, appropriate for the planned activity, and is the right the size for everyone taking part.', 'Leaders consider which parts of the activity need to be done by adults, or with close supervision.', \"Make sure there's enough space between participants. Think about their location in the kitchen or main hall.\", 'Make sure there is good ventilation.']}, {'hazard': 'Sharp items', 'risks': ['Injuries from mistakes or misuse'], 'affects': ['Young people', 'Adult volunteers'], 'controls': ['Leaders count out the sharp items and are clear on how many are being used. Leaders count sharp items back in to make sure that all are returned.', \"Adults supervise young people when they're using sharp items - at least one adult for each group.\", 'Leaders brief young people on using the sharp item safely before they use it.', 'Adequate cutting boards provided.']}, {'hazard': 'Heat sources', 'risks': ['Burns from mistakes or misuse'], 'affects': ['Young people', 'Adult volunteers'], 'controls': ['Adults supervise young people when using hot items (such as ovens, stoves, candles, and fires) - at least one adult for each group.', 'Use heat sources in a defined area to restrict access.', 'Leaders brief young people on using the heat sources safely before they use them.', 'Check HQ guidance on Safe use of Gas.']}, {'hazard': 'Cables and electricity.', 'risks': ['Trips', 'Falls', 'Electrocution from mistakes or misuse.'], 'affects': ['Young people', 'Adult volunteers'], 'controls': ['Use apliances close to sockets where possible.', 'Cover and identify trailing cables where possible.', 'No liquids near electrical items where possible.', 'Leaders supervise use of electrical items.']}, {'hazard': 'Behaviour', 'risks': ['Overexcitement, especially at the start and end of the meeting.'], 'affects': ['Young people', 'Adult volunteers'], 'controls': ['Section code of conduct in place to set clear expectations of behaviour.', 'Structure and outcomes of activity clearly explained at beginning.']}, {'hazard': 'Individual Needs', 'risks': ['Exclusion', 'Injury'], 'affects': ['Young people', 'Adult volunteers'], 'controls': ['Leader in charge to have considered individauls and made adjustments to make activity accessible.', 'All adults aware of individuals with specific needs and any specific measures in place.']}]}, 'id': '8d747bec-afe3-4619-b6fe-6c3fd41c0e17', 'type': 'tool_call'}]),\n",
      " ToolMessage(content='', tool_call_id='8d747bec-afe3-4619-b6fe-6c3fd41c0e17'),\n",
      " HumanMessage(content='\\nLocation: The scout hut is has a large hall with a hard wooden floor.\\n\\nActivity: Indoor games.\\n\\nIdentify 5 or more risk(s).\\n', additional_kwargs={}, response_metadata={}),\n",
      " AIMessage(content='', additional_kwargs={}, response_metadata={}, name='ad7ac17e-ee81-4e67-971a-f59a9915054a', tool_calls=[{'name': 'RiskAssessment', 'args': {'activity': 'Indoor games', 'location': 'Scout Hut', 'risks': [{'hazard': 'Objects being thrown.', 'risks': ['Injuries to participants.'], 'affects': ['Young people', 'Adult volunteers'], 'controls': ['Safety instructions to be given before activity.', 'No throwing balls/objects at head/face.', 'No hard objects to be thrown.', '2 adult volunteers to superivse the game.']}, {'hazard': 'Limbs/fingers ect being troden on during games.', 'risks': ['Injuries.'], 'affects': ['Young people'], 'controls': ['Ensure that when rules of game are set out that young personsare advised to keep their fingers away from where feet may land.', 'Have sufficient room between young people if jumping over legs.', 'Legs to be kept straight if game involves jumping over legs', '2 adult volunteers to superivse the game.']}, {'hazard': 'Whipping from rope.', 'risks': ['Injuries'], 'affects': ['Young people'], 'controls': ['2 adult volunteers to superivse the game.']}, {'hazard': 'Blindfolded games/activities.', 'risks': ['Injuries'], 'affects': ['Young people'], 'controls': ['Participants advised to walk only and not to run. Another participant to act as guide and stay with the blindfolded person.', 'All phyiscal hazards to be removed or barriered off.']}, {'hazard': 'Computer games', 'risks': ['Danger from strangers online / inappropriate age.'], 'affects': ['Young people'], 'controls': ['Digital safety talk about stranger danger/grooming on line', 'Ensure games being played are age appropriate.', 'Adult supervision as appropriate of chat rooms if connected to games.']}]}, 'id': 'ad7ac17e-ee81-4e67-971a-f59a9915054a', 'type': 'tool_call'}]),\n",
      " ToolMessage(content='', tool_call_id='ad7ac17e-ee81-4e67-971a-f59a9915054a'),\n",
      " HumanMessage(content='\\nLocation: The scout hut is has a large hall with a hard wooden floor.\\n\\nActivity: Section meeting.\\n\\nIdentify 7 or more risk(s).\\n', additional_kwargs={}, response_metadata={}),\n",
      " AIMessage(content='', additional_kwargs={}, response_metadata={}, name='f3239070-79d4-4bd1-8447-9bd33670769b', tool_calls=[{'name': 'RiskAssessment', 'args': {'activity': 'Section meeting', 'location': 'Scout Hut', 'risks': [{'hazard': 'Floor', 'risks': ['Slips', 'Trips', 'Falls'], 'affects': ['Young people', 'Adult volunteers'], 'controls': ['Check floor is clear of obstacles and spills that are likely to increase risk of tripping, slipping, or injury.', 'Have a wet floor sign to hand.', \"Make sure everyone's wearing appropriate footwear and it's secured to their feet (check laces are tied and so on).\", 'Put a doormat at the entrance. Encourange everyone to wipe shoes on arrival, especially if wet.']}, {'hazard': 'Traffic', 'risks': ['injuries from collisions between vehicles and people.'], 'affects': ['Young people', 'Adult volunteers'], 'controls': ['Have clear signs in the car park and a marked, well lit walkway for pedestrians.', 'Brief parents and carers on safe arrival and departure process.', 'Leader supervises from the entrance to make sure young people arrive/depart the building safely.']}, {'hazard': 'Behaviour', 'risks': ['Overexcitement, especially at start and end of the evening.'], 'affects': ['Young people'], 'controls': ['Have a section code of conduct to set clear expectations of behaviour.', 'Leader orruns a filler planned activity for young people as they arrive to provide focus.', 'Leader in charge monitors timings in the meeting to make sure activities flow from one to the next (and identify need for filler activities).', 'A pre-arranged freeze signal is in place to use to halt any activity (ie: 2 whistle blasts)', 'All adults aware of individuals with specific needs and alternative measures in place']}, {'hazard': 'Security', 'risks': ['intruder access to the building', 'Young person leaving unattended.'], 'affects': ['Young people', 'Adult volunteers'], 'controls': [\"Adults follow group's arrangements for preventing unauthorised departure and access once all of the young people have arrived. These should not obstruct the fire evacuation arrangements.\", 'Have a clear waiting area for collection. Leaders tell young person when their parent or carer has arrived to collect them.', 'Leaders carry mobile phones. Leader in charge has access to InTouch details in case of emergency.', \"Clear communication between leaders and parents and carers so leaders know who's dropping off and picking up each young person.\"]}, {'hazard': 'Kitchen', 'risks': ['Injuries from heat sources', 'Injuries from sharp items.'], 'affects': ['Young people', 'Adult volunteers'], 'controls': ['Limit access to the kitchen to adults only (unless part of a programmed activity).', 'Scouts to access kitchen only after direct permission given', 'Keep hot items, such as drinks, away from activity areas']}, {'hazard': 'Chemicals', 'risks': ['injuries from misuse of cleaning materials.'], 'affects': ['Young people', 'Adult volunteers'], 'controls': ['Limit access to chemicals used for cleaning by locking away from (or putting out of reach of) young people.', 'Adults supervise any use of cleaning chemicals, including washing up and so on.', 'COSHH register to be kept in an accessible place for all chemicals']}, {'hazard': 'Fire', 'risks': ['Injuries', 'Death'], 'affects': ['Young people', 'Adult volunteers'], 'controls': [\"Adults check all fire exits and escape routes to make sure they're unlocked and clear before participants arrive.\", 'Leaders and Young Leaders know what to do in the event of a fire and where the emergency assembly point is.', 'All rubbish tidied and cleared at the end of each session.']}, {'hazard': 'Safeguarding, Appropriate Adults', 'risks': ['Poor/inappropriate supervision of young personung person leading to injury, illness, upset'], 'affects': ['Young people', 'Adult volunteers'], 'controls': ['All leaders and helpers to complete appropriate personal checks and mandatory trainings within correct time frame.', 'First Aider present at every meeting.', 'Appropriate child:adult ratios in place at all times', 'Consider if extra adult help is needed for specific young people in the group.', 'Section Leader aware of any medical/additional needs and what support should be in place (eg: epi-pen, seat provided)']}, {'hazard': 'Infectious Diseases', 'risks': ['Cross contamination, spread of infection'], 'affects': ['Young people', 'Adult volunteers'], 'controls': ['Ill members advised not to attend if they may be infectious (eg: have been sick in the last 48hrs)', 'Hand washing / sanitising equipment provided and used before eating, cooking.', \"Young person reminded about good hand hygiene (eg: 'have you washed your hands?' if they have been to the toilet\"]}]}, 'id': 'f3239070-79d4-4bd1-8447-9bd33670769b', 'type': 'tool_call'}]),\n",
      " ToolMessage(content='', tool_call_id='f3239070-79d4-4bd1-8447-9bd33670769b'),\n",
      " HumanMessage(content='\\nLocation: The local urban area.\\n\\nActivity: Activities outside the meeting place - town treasure hunt.\\n\\nIdentify 5 or more risk(s).\\n', additional_kwargs={}, response_metadata={}),\n",
      " AIMessage(content='', additional_kwargs={}, response_metadata={}, name='28b14360-d9af-4414-9c20-dcd9d8f72b7c', tool_calls=[{'name': 'RiskAssessment', 'args': {'activity': 'Local treasure hunt', 'location': 'Local urban area.', 'risks': [{'hazard': 'Roads and traffic', 'risks': ['injuries from collisions between vehicles and people.'], 'affects': ['Young people', 'Adult volunteers'], 'controls': ['Choose a route with minimal use of roads without a footpath and avoiding busy main roads where possible', 'Brief young people on safety around roads and expected behaviour.', 'Be aware of suitable crossing places, make young people aware of them', 'Adults directly supervise crossing if necessary (one on each side of the crossing point).', 'Leaders at the front and back of the group wear hi-visibility jackets.', 'Walk single file when on a road, on correct side of road for group size']}, {'hazard': 'Walking in busy areas, by roads, on pavements', 'risks': ['Injury', 'Lost child', 'Negative interaction with public'], 'affects': ['Young people', 'Adult volunteers'], 'controls': ['Brief young people on walking in a group and expected behaviour.', 'Suitable footwear to be worn, Leaders to check before start.', 'Leaders and helpers allotted to specific small group of young people.', 'Group to follow the Highway Code and Green Cross Code.', 'Lot child plan in place and all Leaders and helpers aware of it.', 'Leaders and helpers to monitor pavement/ route for hazards (eg oncoming dog walker or protruding step) and alert/instruct young people around them.', 'Group to walk, not run, in busy areas and by roads.', 'If dark, Hi Vis to be worn by all participants and Torches to be used where there are no streetlights.']}, {'hazard': 'Weather', 'risks': ['Rain before and during the activity', 'Hot weather causing heat exhaustion or sun stroke.'], 'affects': ['Young people', 'Adult volunteers'], 'controls': [\"The leader will monitor the weather forecast in advance. If unsuitable weather (eg heavy rain or extreme heat) is forecast, we'll plan an alternative activity.\", 'Leaders will advise participants on suitable clothing to wear and carry (including sun protection and waterproofs). Everyone will bring a filled water bottle.', \"Leaders will check that everyone's suitably equipped at the start of the meeting and have a few spare items available.\", 'Leaders will monitor young people and return to our meeting place if it gets too hot or the weather deteriorates.']}, {'hazard': 'Behaviour', 'risks': ['Inppropriate behaviour leading to accidents or anti-social incidents'], 'affects': ['Young people', 'Adult volunteers'], 'controls': ['Clear expectations given to YP and section code of conduct to be followed', 'Young people in small groups with adult support for interaction with public.']}, {'hazard': 'Unfamiliar/Public Buildings', 'risks': ['Lost child', 'Accidents', 'Imappropriate behaviour'], 'affects': ['Young people', 'Adult volunteers'], 'controls': ['Adults pre-briefed about buildings to be entered. Shop/ Church/ building owners informed beforehand.', 'Young people reminded of appropriate behaviour for building at entrance', 'Leaders/ helpers to supervise each group', 'Adults supervise any use of cleaning chemicals, including washing up and so on.']}, {'hazard': 'Incidents', 'risks': ['Poor Management leading to increased detrimental effects', 'Injuries'], 'affects': ['Young people', 'Adult volunteers'], 'controls': ['Leader in charge known to participants.', 'Designated First Aider. Suitable 1st Aid kit carried.', 'Ensure robust In Touch system is in place.', 'Leaders/helpers able to contact Leader in charge quickly.', 'Purple cards issued to all leaders and helpers.']}, {'hazard': 'Individual needs', 'risks': ['Exclusion', 'Upset', 'Injury'], 'affects': ['Young people', 'Adult volunteers'], 'controls': [\"All abilities of group considered in planning. Careful consideration of entire route and it's suitability during planning phase.\", 'Young Person and parents consulted and specific plans put in place.', 'Additional equipment may be needed and the use/ access of this considered.', 'Adjustments for individuals (eg: Not having to wear a high vis) to be made.']}]}, 'id': '28b14360-d9af-4414-9c20-dcd9d8f72b7c', 'type': 'tool_call'}]),\n",
      " ToolMessage(content='', tool_call_id='28b14360-d9af-4414-9c20-dcd9d8f72b7c')]\n"
     ]
    }
   ],
   "source": [
    "import json\n",
    "from scout.risk.prompts import user_prompt, assessment_prompt\n",
    "from scout.risk.models import ExampleRiskAssessment\n",
    "import itertools\n",
    "\n",
    "from pprint import pprint\n",
    "\n",
    "with open(\"assessment_examples.json\") as f:\n",
    "    examples = json.load(f)\n",
    "\n",
    "examples = [ExampleRiskAssessment(**example).to_messages(user_prompt) for example in examples]\n",
    "\n",
    "\n",
    "examples = list(itertools.chain(*examples))\n",
    "# examples = []\n",
    "pprint(examples)"
   ]
  },
  {
   "cell_type": "code",
   "execution_count": 6,
   "metadata": {},
   "outputs": [],
   "source": [
    "from langchain_openai import ChatOpenAI\n",
    "\n",
    "model = ChatOpenAI(model=\"gpt-4o-mini\", temperature=0.5)\n",
    "llm = model.with_structured_output(RiskAssessment, include_raw=True)\n",
    "app = assessment_prompt.partial(examples=examples, n_min=7) | llm\n",
    "\n",
    "args = {\n",
    "    \"activity\": (\n",
    "        \"Pumpkin carving with tee light candles. \"\n",
    "        \"Pumpkin carving will be done on tables in groups of 2, 2 groups per table.\"\n",
    "    ),\n",
    "    # \"activity\": \"Variety of indoor games such as dodgeball, crab football etc.\",\n",
    "    # \"activity\": \"Using a knife to whittle wood.\",\n",
    "    # \"activity\": \"Rock paper scissors.\",\n",
    "    # \"activity\": (\n",
    "    #     \"Visiting 2 local chip shops and sample the chips. Scouts will need to cross roads and not \"\n",
    "    #     \"get lost. Scouts will travel in groups of 4, each with one adult leader. Scouts should plan.\"\n",
    "    # ),\n",
    "    # \"activity\": \"Scouts making pancakes in the kitchen.\",\n",
    "    # \"location\": \"The scout kitchen is a medium sized kitchen similar to a typical family kitchen\",\n",
    "    # \"location\": (\n",
    "    #     \"The Queens Hall is large brick building with a hard wooden floor and a raised stage at the front. \"\n",
    "    #     \"It contains a small modern kitchen, a number of exposed pillars to support the roof and stacked chairs around the perimeter.\"\n",
    "    # ),\n",
    "    \"location\": (\n",
    "        \"The Queens Hall is large brick building with a large room with a hard wooden floor with stacked chairs around the perimeter. \"\n",
    "        \"It also contains a small modern kitchen.\"\n",
    "    ),\n",
    "    # \"location\": \"Local urban area at night.\",\n",
    "}\n",
    "risks = app.invoke(args)"
   ]
  },
  {
   "cell_type": "code",
   "execution_count": 7,
   "metadata": {},
   "outputs": [
    {
     "name": "stdout",
     "output_type": "stream",
     "text": [
      "8\n"
     ]
    },
    {
     "data": {
      "text/markdown": [
       "## Pumpkin carving with tea light candles - The Queens Hall\n",
       "\n",
       "### Hazard\n",
       "Sharp carving tools\n",
       "### Affects\n",
       "Young people\n",
       "\n",
       "Adult volunteers\n",
       "### Risks\n",
       "Injuries from cuts or punctures.\n",
       "### Controls\n",
       "Adults to supervise young people when using carving tools, ensuring they are used safely.\n",
       "\n",
       "Demonstrate the correct way to use tools and how to pass them safely between participants.\n",
       "\n",
       "Limit the number of sharp tools in use at one time to reduce risk.\n",
       "\n",
       "\n",
       "\n",
       "\n",
       "### Hazard\n",
       "Tea light candles\n",
       "### Affects\n",
       "Young people\n",
       "\n",
       "Adult volunteers\n",
       "### Risks\n",
       "Burns or fire hazards.\n",
       "### Controls\n",
       "Ensure that candles are placed in stable holders and monitored at all times.\n",
       "\n",
       "Establish a safe distance between candles and flammable materials (including clothing).\n",
       "\n",
       "Brief participants on fire safety and the importance of not leaning over lit candles.\n",
       "\n",
       "\n",
       "\n",
       "\n",
       "### Hazard\n",
       "Tables and chairs around the perimeter\n",
       "### Affects\n",
       "Young people\n",
       "\n",
       "Adult volunteers\n",
       "### Risks\n",
       "Tripping or falling over stacked chairs or tables.\n",
       "### Controls\n",
       "Ensure that chairs are stored safely and not in walkways or areas where participants will be moving.\n",
       "\n",
       "Keep the area around the tables clear of personal items and equipment.\n",
       "\n",
       "\n",
       "\n",
       "\n",
       "### Hazard\n",
       "Floor surface\n",
       "### Affects\n",
       "Young people\n",
       "\n",
       "Adult volunteers\n",
       "### Risks\n",
       "Slips, trips, and falls due to spills or debris.\n",
       "### Controls\n",
       "Check the floor is clean and dry before starting activities.\n",
       "\n",
       "Have a procedure for cleaning up any spills immediately to prevent accidents.\n",
       "\n",
       "\n",
       "\n",
       "\n",
       "### Hazard\n",
       "Kitchen area\n",
       "### Affects\n",
       "Young people\n",
       "\n",
       "Adult volunteers\n",
       "### Risks\n",
       "Injuries from sharp items or burns from hot appliances.\n",
       "### Controls\n",
       "Limit access to the kitchen to adults or designated young people under supervision.\n",
       "\n",
       "Ensure that any hot items (if used) are placed away from the activity area and monitored.\n",
       "\n",
       "\n",
       "\n",
       "\n",
       "### Hazard\n",
       "Behaviour during activity\n",
       "### Affects\n",
       "Young people\n",
       "\n",
       "Adult volunteers\n",
       "### Risks\n",
       "Disruptive behaviour leading to accidents or injuries.\n",
       "### Controls\n",
       "Establish clear behaviour expectations and a code of conduct before starting the activity.\n",
       "\n",
       "Adults to monitor behaviour and intervene if necessary to maintain safety.\n",
       "\n",
       "\n",
       "\n",
       "\n",
       "### Hazard\n",
       "Individual needs\n",
       "### Affects\n",
       "Young people\n",
       "### Risks\n",
       "Exclusion or injury due to lack of support.\n",
       "### Controls\n",
       "Consider individual needs when planning the activity, ensuring all young people can participate safely.\n",
       "\n",
       "Provide additional support or adaptations as necessary for those with specific needs.\n",
       "\n",
       "\n",
       "\n",
       "\n",
       "### Hazard\n",
       "Inadequate supervision\n",
       "### Affects\n",
       "Young people\n",
       "### Risks\n",
       "Injuries or accidents due to lack of adult oversight.\n",
       "### Controls\n",
       "Ensure a sufficient number of adults are present to supervise the activity effectively, following appropriate adult-to-young person ratios.\n",
       "\n",
       "\n"
      ],
      "text/plain": [
       "<IPython.core.display.Markdown object>"
      ]
     },
     "metadata": {},
     "output_type": "display_data"
    }
   ],
   "source": [
    "print(len(risks[\"parsed\"].risks))\n",
    "display(Markdown(risks[\"parsed\"].to_markdown()))"
   ]
  }
 ],
 "metadata": {
  "kernelspec": {
   "display_name": ".venv",
   "language": "python",
   "name": "python3"
  },
  "language_info": {
   "codemirror_mode": {
    "name": "ipython",
    "version": 3
   },
   "file_extension": ".py",
   "mimetype": "text/x-python",
   "name": "python",
   "nbconvert_exporter": "python",
   "pygments_lexer": "ipython3",
   "version": "3.12.7"
  }
 },
 "nbformat": 4,
 "nbformat_minor": 2
}
