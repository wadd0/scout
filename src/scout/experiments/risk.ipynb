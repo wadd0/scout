{
 "cells": [
  {
   "cell_type": "code",
   "execution_count": 33,
   "metadata": {},
   "outputs": [],
   "source": [
    "# TODO\n",
    "# catologue risks\n",
    "# refer to hse (health and safety executive)\n",
    "# We have caught carp, barbel, roach, rudd, perch, skimmer, bream, gudgeon, tench,\n",
    "#"
   ]
  },
  {
   "cell_type": "code",
   "execution_count": 34,
   "metadata": {},
   "outputs": [
    {
     "data": {
      "text/plain": [
       "True"
      ]
     },
     "execution_count": 34,
     "metadata": {},
     "output_type": "execute_result"
    }
   ],
   "source": [
    "from dotenv import load_dotenv, find_dotenv\n",
    "\n",
    "load_dotenv(find_dotenv())"
   ]
  },
  {
   "cell_type": "code",
   "execution_count": 35,
   "metadata": {},
   "outputs": [],
   "source": [
    "from typing import Literal\n",
    "from pydantic import BaseModel, Field\n",
    "\n",
    "\n",
    "class Risk(BaseModel):\n",
    "    \"\"\"Describes a risk.\"\"\"\n",
    "\n",
    "    hazard: str = Field(\n",
    "        description=(\n",
    "            \"Concise description of the hazard. \"\n",
    "            \"A hazard is something that may cause harm or damage.\"\n",
    "        )\n",
    "    )\n",
    "    risks: list[str] = Field(\n",
    "        description=(\n",
    "            \"List of risks associated with the hazard. \"\n",
    "            \"A risk is the harm that may occur from the hazard. \"\n",
    "            \"Describe each risk in a sentence.\"\n",
    "        )\n",
    "    )\n",
    "    affects: Literal[\"Young people\", \"Leaders\", \"All present\"] = Field(\n",
    "        description=\"Who is at risk. Leaders are adult Scout leaders.\"\n",
    "    )\n",
    "\n",
    "\n",
    "class Risks(BaseModel):\n",
    "    \"\"\"List of risks.\"\"\"\n",
    "\n",
    "    risks: list[Risk]"
   ]
  },
  {
   "cell_type": "code",
   "execution_count": 36,
   "metadata": {},
   "outputs": [],
   "source": [
    "controls = \"\"\"\n",
    "Controls are ways of making the activity safer by removing or reducing the risk.  \n",
    "For example, you may use a different piece of equipment or you might change the way you do the activity.\n",
    "\"\"\""
   ]
  },
  {
   "cell_type": "code",
   "execution_count": 37,
   "metadata": {},
   "outputs": [],
   "source": [
    "from langchain_core.prompts import ChatPromptTemplate\n",
    "from langchain_core.messages import SystemMessage\n",
    "from langchain_core.prompts import HumanMessagePromptTemplate\n",
    "\n",
    "# TODO\n",
    "# How to consider children's behaviour\n",
    "# Correctly classify who is at risk - may need a reviewer\n",
    "# Inject examples for multi-shot\n",
    "# How to describe each value of a literal in pydantic\n",
    "\n",
    "system = \"\"\"\n",
    "A scout leader planning an activity for Scouts (aged 10-14) needs to perform a \n",
    "risk assessment for an activity at a given location.\n",
    "\n",
    "Your task is to perform a risk assessment identifying hazards and the risks\n",
    "associated with them.\n",
    "\n",
    "When identifying hazards and risks, pay attention to the location as this can \n",
    "introduce additional hazards.\n",
    "\n",
    "Always consider the impact that poor behaviour of young people could have.\n",
    "\n",
    "Use plain British english and commonly used terms in your response.\n",
    "\"\"\"\n",
    "\n",
    "prompt = \"\"\"\n",
    "Location: {location}\n",
    "\n",
    "Activity: {activity}\n",
    "\n",
    "Identify {n} risks. Rank them from highest impact to lowest impact.\n",
    "\"\"\"\n",
    "\n",
    "chat_template = ChatPromptTemplate.from_messages(\n",
    "    [\n",
    "        (\"system\", system),\n",
    "        HumanMessagePromptTemplate.from_template(prompt),\n",
    "    ]\n",
    ")"
   ]
  },
  {
   "cell_type": "code",
   "execution_count": 38,
   "metadata": {},
   "outputs": [],
   "source": [
    "from langchain_openai import ChatOpenAI\n",
    "\n",
    "model = ChatOpenAI(model=\"gpt-4o-mini\", temperature=1.0)\n",
    "llm = model.with_structured_output(Risks, include_raw=True)\n",
    "app = chat_template | llm\n",
    "\n",
    "risks = app.invoke(\n",
    "    {\n",
    "        # \"activity\": \"Pumpkin carving with tee light candles. Pumpkin carving will be done on tables in groups of 2, 2 groups per table.\",\n",
    "        # \"activity\": \"Variety of indoor games such as dodgeball, crab football etc.\",\n",
    "        \"activity\": \"Scouts making pancakes in the kitchen when being supervised by 2 adults.\",\n",
    "        \"location\": \"The scout kitchen is a medium sized kitchen similar to a typical family kitchen\",\n",
    "        # \"location\": \"The scout hut is large brick building with a hard wooden floor and a raised stage at the front. I contains a number of pillars to support the roof and stacked chairs.\",\n",
    "        \"n\": 5,\n",
    "    }\n",
    ")\n",
    "\n",
    "# TODO would generally run this generation several times and filter"
   ]
  },
  {
   "cell_type": "code",
   "execution_count": 39,
   "metadata": {},
   "outputs": [
    {
     "name": "stdout",
     "output_type": "stream",
     "text": [
      "{\n",
      "   \"risks\": [\n",
      "      {\n",
      "         \"hazard\": \"Hot surfaces and equipment (stove, grill)\",\n",
      "         \"risks\": [\n",
      "            \"Burns from touching hot surfaces or equipment.\",\n",
      "            \"Fires caused by spills and overheating.\"\n",
      "         ],\n",
      "         \"affects\": \"All present\"\n",
      "      },\n",
      "      {\n",
      "         \"hazard\": \"Sharp utensils (knives, spatulas)\",\n",
      "         \"risks\": [\n",
      "            \"Cuts from using knives or other sharp tools.\",\n",
      "            \"Injury from improper handling of utensils.\"\n",
      "         ],\n",
      "         \"affects\": \"Young people\"\n",
      "      },\n",
      "      {\n",
      "         \"hazard\": \"Slips and falls due to spills\",\n",
      "         \"risks\": [\n",
      "            \"Injuries from slipping on spilled batter or oil.\",\n",
      "            \"Falls causing bruises or sprains.\"\n",
      "         ],\n",
      "         \"affects\": \"All present\"\n",
      "      },\n",
      "      {\n",
      "         \"hazard\": \"Food allergies and intolerances\",\n",
      "         \"risks\": [\n",
      "            \"Health issues or severe allergic reactions.\",\n",
      "            \"Injury from consuming inappropriate ingredients.\"\n",
      "         ],\n",
      "         \"affects\": \"Young people\"\n",
      "      },\n",
      "      {\n",
      "         \"hazard\": \"Poor behaviour leading to distractions\",\n",
      "         \"risks\": [\n",
      "            \"Accidents caused by running, roughhousing or not paying attention.\",\n",
      "            \"Injury from failure to follow safety instructions.\"\n",
      "         ],\n",
      "         \"affects\": \"All present\"\n",
      "      }\n",
      "   ]\n",
      "}\n"
     ]
    }
   ],
   "source": [
    "print(risks[\"parsed\"].model_dump_json(indent=3))"
   ]
  },
  {
   "cell_type": "code",
   "execution_count": 40,
   "metadata": {},
   "outputs": [],
   "source": [
    "# FLOW\n",
    "# identify risks -> generate x3 -> combine similar risks"
   ]
  }
 ],
 "metadata": {
  "kernelspec": {
   "display_name": ".venv",
   "language": "python",
   "name": "python3"
  },
  "language_info": {
   "codemirror_mode": {
    "name": "ipython",
    "version": 3
   },
   "file_extension": ".py",
   "mimetype": "text/x-python",
   "name": "python",
   "nbconvert_exporter": "python",
   "pygments_lexer": "ipython3",
   "version": "3.12.7"
  }
 },
 "nbformat": 4,
 "nbformat_minor": 2
}
